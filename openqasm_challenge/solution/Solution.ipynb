{
 "cells": [
  {
   "cell_type": "markdown",
   "id": "a2b04f67-186d-4551-8ca9-a7e30240c69d",
   "metadata": {},
   "source": [
    "## OpenQASM Parser\n",
    "\n",
    "Implements a parser that generates an OpenQASM code that is equivalent to the input Amazon Braket quantum circuit"
   ]
  },
  {
   "cell_type": "code",
   "execution_count": 85,
   "id": "0490c001-ef23-4253-9841-c3f8b82e1db0",
   "metadata": {},
   "outputs": [],
   "source": [
    "from braket.circuits import Circuit"
   ]
  },
  {
   "cell_type": "code",
   "execution_count": 86,
   "id": "11af07bf-468a-4819-a205-8377b0503f0d",
   "metadata": {},
   "outputs": [],
   "source": [
    "QASMType = str"
   ]
  },
  {
   "cell_type": "code",
   "execution_count": 112,
   "id": "4a1a92db-c6bc-4fee-b351-0255cfe81010",
   "metadata": {},
   "outputs": [],
   "source": [
    "def circuit_to_qasm(circuit: Circuit) -> QASMType:\n",
    "    \"\"\"Converts a `braket.circuits.Circuit` to an OpenQASM string.\n",
    "    Args:\n",
    "        circuit: Amazon Braket quantum circuit\n",
    "\n",
    "    Returns:\n",
    "        The OpenQASM string equivalent to the circuit\n",
    "    \"\"\"\n",
    "    \n",
    "    # A mapping from Amazon Braket gates to QASM gates\n",
    "    gates = {'cnot':'cx','ccnot':'ccx','i':'id','phaseshift':'p','si':'sdg','ti':'tdg', 'v':'sx', 'vi':'sxdg'}\n",
    "    \n",
    "    # Including the header\n",
    "    code = \"OPENQASM 2.0;\\ninclude \\\"qelib1.inc\\\";\\n\\n\"\n",
    "    \n",
    "    # Initializing the quantum register\n",
    "    code += \"qreg q[\" + str(circuit.qubit_count) + \"];\\n\\n\"\n",
    "    \n",
    "    circuit_instr = circuit.instructions\n",
    "    # Building the QASM codelines by applying gates one at a time\n",
    "    for ins in circuit_instr:\n",
    "        \n",
    "        # Appending the gate name\n",
    "        if ins.operator.name.lower() not in gates:\n",
    "            code += ins.operator.name.lower()\n",
    "        else:\n",
    "            code += gates[ins.operator.name.lower()]\n",
    "            \n",
    "        # Appending parameters, if any\n",
    "        try:\n",
    "            param = \"(\" + str(ins.operator.angle) + \") \"\n",
    "        except:\n",
    "            param = \" \"\n",
    "        code += param\n",
    "        \n",
    "        # Appending the gate targets\n",
    "        targets = [int(q) for q in ins.target]\n",
    "        code += \"q[{}]\".format(targets[0])\n",
    "        for t in range(1, len(targets)):\n",
    "            code += \", q[{}]\".format(targets[t])\n",
    "        code += \";\\n\"\n",
    "\n",
    "    return code"
   ]
  },
  {
   "cell_type": "code",
   "execution_count": 107,
   "id": "dee04fbc-ac91-4803-850b-6965e695e266",
   "metadata": {},
   "outputs": [
    {
     "name": "stdout",
     "output_type": "stream",
     "text": [
      "T  : |0|1|2|\n",
      "            \n",
      "q0 : -H-C---\n",
      "        |   \n",
      "q1 : ---X-C-\n",
      "          | \n",
      "q2 : -----X-\n",
      "\n",
      "T  : |0|1|2|\n"
     ]
    }
   ],
   "source": [
    "ghz_circ = Circuit()\n",
    "\n",
    "ghz_circ.h(0)\n",
    "ghz_circ.cnot(0, 1)\n",
    "ghz_circ.cnot(1, 2)\n",
    "\n",
    "print(ghz_circ)"
   ]
  },
  {
   "cell_type": "code",
   "execution_count": 108,
   "id": "8112e4f8-06a8-48c2-90d3-631d37e32bde",
   "metadata": {},
   "outputs": [
    {
     "name": "stdout",
     "output_type": "stream",
     "text": [
      "OPENQASM 2.0;\n",
      "include \"qelib1.inc\";\n",
      "\n",
      "qreg q[3];\n",
      "\n",
      "h q[0];\n",
      "cx q[0], q[1];\n",
      "cx q[1], q[2];\n",
      "\n"
     ]
    }
   ],
   "source": [
    "print(circuit_to_qasm(ghz_circ))"
   ]
  },
  {
   "cell_type": "code",
   "execution_count": 109,
   "id": "e40ffa8c-6721-4a07-aa21-99478f0f5668",
   "metadata": {},
   "outputs": [
    {
     "name": "stdout",
     "output_type": "stream",
     "text": [
      "T  : |0|1|2 |   3    |4 |5|\n",
      "                           \n",
      "q0 : -H-X-S--Rx(0.79)-V--C-\n",
      "                         | \n",
      "q1 : -H-X-Si-Ry(1.57)-Vi-X-\n",
      "                           \n",
      "q2 : -H-Y-T--Rz(2.36)------\n",
      "                           \n",
      "q3 : -H-Z-Ti---------------\n",
      "\n",
      "T  : |0|1|2 |   3    |4 |5|\n"
     ]
    }
   ],
   "source": [
    "fourteen_circ = Circuit()\n",
    "\n",
    "fourteen_circ.h([0, 1, 2, 3])\n",
    "fourteen_circ.x([0, 1])\n",
    "fourteen_circ.y(2)\n",
    "fourteen_circ.z(3)\n",
    "fourteen_circ.s(0)\n",
    "fourteen_circ.si(1)\n",
    "fourteen_circ.t(2)\n",
    "fourteen_circ.ti(3)\n",
    "fourteen_circ.rx(0, np.pi / 4)\n",
    "fourteen_circ.ry(1, np.pi / 2)\n",
    "fourteen_circ.rz(2, 3 * np.pi / 4)\n",
    "fourteen_circ.v(0)\n",
    "fourteen_circ.vi(1)\n",
    "fourteen_circ.cnot(0, 1)\n",
    "\n",
    "print(fourteen_circ)"
   ]
  },
  {
   "cell_type": "code",
   "execution_count": 110,
   "id": "4a342927-e612-403e-b7d0-00856e1600cd",
   "metadata": {},
   "outputs": [
    {
     "name": "stdout",
     "output_type": "stream",
     "text": [
      "OPENQASM 2.0;\n",
      "include \"qelib1.inc\";\n",
      "\n",
      "qreg q[4];\n",
      "\n",
      "h q[0];\n",
      "h q[1];\n",
      "h q[2];\n",
      "h q[3];\n",
      "x q[0];\n",
      "x q[1];\n",
      "y q[2];\n",
      "z q[3];\n",
      "s q[0];\n",
      "sdg q[1];\n",
      "t q[2];\n",
      "tdg q[3];\n",
      "rx(0.7853981633974483) q[0];\n",
      "ry(1.5707963267948966) q[1];\n",
      "rz(2.356194490192345) q[2];\n",
      "sx q[0];\n",
      "sxdg q[1];\n",
      "cx q[0], q[1];\n",
      "\n"
     ]
    }
   ],
   "source": [
    "print(circuit_to_qasm(fourteen_circ))"
   ]
  }
 ],
 "metadata": {
  "kernelspec": {
   "display_name": "Python 3 [Braket]",
   "language": "python",
   "name": "python3_aws_braket_kwx6dl"
  },
  "language_info": {
   "codemirror_mode": {
    "name": "ipython",
    "version": 3
   },
   "file_extension": ".py",
   "mimetype": "text/x-python",
   "name": "python",
   "nbconvert_exporter": "python",
   "pygments_lexer": "ipython3",
   "version": "3.9.7"
  }
 },
 "nbformat": 4,
 "nbformat_minor": 5
}
